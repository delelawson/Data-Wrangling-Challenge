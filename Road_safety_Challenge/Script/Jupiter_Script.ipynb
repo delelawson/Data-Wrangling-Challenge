{
  "nbformat": 4,
  "nbformat_minor": 2,
  "metadata": {
    "colab": {
      "name": "Script.ipynb",
      "provenance": []
    },
    "kernelspec": {
      "name": "python3",
      "display_name": "Python 3.8.5 64-bit"
    },
    "language_info": {
      "name": "python",
      "version": "3.8.5",
      "mimetype": "text/x-python",
      "codemirror_mode": {
        "name": "ipython",
        "version": 3
      },
      "pygments_lexer": "ipython3",
      "nbconvert_exporter": "python",
      "file_extension": ".py"
    },
    "interpreter": {
      "hash": "175bea03f8779bc83780d300a14fd90554620452514d9b41fff297dfbd54e30a"
    }
  },
  "cells": [
    {
      "cell_type": "markdown",
      "source": [
        "Datopian - Data Wrangling Challenge (Script)"
      ],
      "metadata": {
        "id": "cSRR5Gs5D8fC"
      }
    },
    {
      "cell_type": "code",
      "execution_count": 11,
      "source": [
        "#step 1: Import the required libraries needed for this script\r\n",
        "# using pandas\r\n",
        "# using beautifulsoup would have been a good option also but its a framework\r\n",
        "# so for this task , wwe are using only pandas library\r\n",
        "import pandas as pd"
      ],
      "outputs": [],
      "metadata": {
        "id": "ai6Qr3x1-EuU"
      }
    },
    {
      "cell_type": "code",
      "execution_count": 12,
      "source": [
        "# step 2: Create a function that runs the necessary scripts  and return the final output\r\n",
        "\r\n",
        "def Data_wrangling():\r\n",
        "    \r\n",
        "    # step 3: Read the website with its url into the script\r\n",
        "    #         Method - pd.read_html (This would read all the tables in the website and puts them in a single list)\r\n",
        "    #         Use List indexing to get the required table\r\n",
        "    \r\n",
        "    df = pd.read_html('https://en.wikipedia.org/wiki/Road_safety_in_Europe')\r\n",
        "    df_output = df[2]\r\n",
        "\r\n",
        "    #step 4: Select the required columns from the table, filtering out the ones that won't be used \r\n",
        "    df_output = df_output[['Country', 'Area (thousands of km2)[24]', 'Population in 2018[25]', 'GDP per capita in 2018[26]', 'Population density (inhabitants per km2) in 2017[27]', \r\n",
        "             'Vehicle ownership (per thousand inhabitants) in 2016[28]', 'Total Road Deaths in 2018[30]', 'Road deaths per Million Inhabitants in 2018[30]']]\r\n",
        "\r\n",
        "    #step 5: Rename the columns above to the desired names as required.\r\n",
        "    df_output = df_output.rename(columns={\r\n",
        "        'Area (thousands of km2)[24]':'Area',\r\n",
        "        'Population in 2018[25]':'Population',\r\n",
        "        'GDP per capita in 2018[26]':'GDP per Capita',\r\n",
        "        'Population density (inhabitants per km2) in 2017[27]':'Population Density',\r\n",
        "        'Vehicle ownership (per thousand inhabitants) in 2016[28]':'Vehicle Ownership',\r\n",
        "        'Total Road Deaths in 2018[30]':'Total Road Deaths',\r\n",
        "        'Road deaths per Million Inhabitants in 2018[30]':'Road deaths per Million Inhabitants'}) \r\n",
        "    \r\n",
        "    #step 6: Insert a Year column in the data and populate with a constant value of 2018\r\n",
        "    df_output.insert(1, 'Year', 2018)\r\n",
        "\r\n",
        "    #step 7: Sort data using the Road deaths per million inhabitants column, excluding the last row\r\n",
        "    #The last row contains EU total for all countries, and should remain at the bottom of the table\r\n",
        "    Data_sorted = df_output[0:28].sort_values('Road deaths per Million Inhabitants')\r\n",
        "\r\n",
        "    #step 8: Add the EU total row back to the bottom of the sorted data.\r\n",
        "    output = Data_sorted.append(df_output.loc[28])\r\n",
        "\r\n",
        "    #step 9: store the resulting dataset in a csv file, and filter out the index and allowing \"Country\" as first column in resulting csv file.\r\n",
        "    output.to_csv('Wrangled_data.csv', index = False)\r\n",
        "\r\n",
        "    return output\r\n"
      ],
      "outputs": [],
      "metadata": {
        "id": "M_utQ7U6ESd3"
      }
    },
    {
      "cell_type": "code",
      "execution_count": 13,
      "source": [
        "#final step: call the function *Data_wrangling*\r\n",
        "Data_wrangling()"
      ],
      "outputs": [],
      "metadata": {
        "id": "3P-lsO60Givv"
      }
    },
    {
      "cell_type": "code",
      "execution_count": null,
      "source": [],
      "outputs": [],
      "metadata": {}
    }
  ]
}